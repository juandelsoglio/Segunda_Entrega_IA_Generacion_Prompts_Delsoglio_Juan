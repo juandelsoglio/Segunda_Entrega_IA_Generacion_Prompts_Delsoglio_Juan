{
 "cells": [
  {
   "cell_type": "markdown",
   "id": "2f472f56-8fb1-4363-ada8-648640c4d1aa",
   "metadata": {},
   "source": [
    "# ⚕️ Proyecto IA: Asistente Virtual para Turnos Médicos\n",
    "\n",
    "## 1. Introducción\n",
    "Este proyecto corresponde a la **Preentrega #2** del curso *Generación de Prompts 3.0* de la Diplomatura en Ciencia de Datos (Coderhouse).  \n",
    "\n",
    "El objetivo es desarrollar una **prueba de concepto (POC)** que demuestre cómo las técnicas de **Fast Prompting** pueden aplicarse para automatizar la gestión de turnos médicos a través de un asistente virtual.\n"
   ]
  },
  {
   "cell_type": "markdown",
   "id": "832107a3-f66b-4201-80e1-ecde0265d016",
   "metadata": {},
   "source": [
    "## 2. Problema a abordar\n",
    "Actualmente, la gestión de turnos médicos por WhatsApp es manual, lo que genera:  \n",
    "- Pérdida de tiempo respondiendo consultas repetitivas.  \n",
    "- Posibles errores en la toma de datos.  \n",
    "- Falta de escalabilidad frente a un aumento de la demanda.  \n",
    "- Riesgo de perder pacientes si no se responde rápido.\n"
   ]
  },
  {
   "cell_type": "markdown",
   "id": "98ac6e24-2524-4edc-b6ca-be91077f2a81",
   "metadata": {},
   "source": [
    "## 3. Propuesta de solución\n",
    "Se implementa un **asistente virtual con IA** que:  \n",
    "1. Utiliza prompts optimizados para recolectar datos del paciente en pasos estructurados.  \n",
    "2. Genera un resumen con toda la información necesaria para agendar el turno.  \n",
    "3. Crea una confirmación visual en forma de tarjeta digital (texto-imagen).\n"
   ]
  },
  {
   "cell_type": "markdown",
   "id": "f172e79c-d737-4e12-b2c6-98b389bc75dd",
   "metadata": {},
   "source": [
    "## 4. Objetivos\n",
    "- Demostrar el uso de **Fast Prompting** (zero-shot, few-shot, role prompting, chaining, validaciones).  \n",
    "- Comparar un prompt básico con uno optimizado y analizar mejoras.  \n",
    "- Implementar un prototipo funcional en **Jupyter Notebook**.  \n",
    "- Documentar el flujo del proyecto en GitHub.\n"
   ]
  },
  {
   "cell_type": "markdown",
   "id": "677a658b-e0e2-4dd1-9336-19d4bc080f1a",
   "metadata": {},
   "source": [
    "## 5. Herramientas y Tecnologías\n",
    "- Python + Jupyter Notebook  \n",
    "- Técnicas de Fast Prompting: Zero-shot vs Few-shot, Role prompting, Prompt chaining, Restricciones en el output  \n",
    "- Modelos de IA: ChatGPT (texto-texto), NightCafe/DALL·E (texto-imagen)\n"
   ]
  },
  {
   "cell_type": "markdown",
   "id": "875140c4-67b2-4c4f-a9bd-db14cec4e0c5",
   "metadata": {},
   "source": [
    "## 6. Implementación\n",
    "\n",
    "A continuación se presenta un **prompt simulado** para recolectar datos de un paciente y generar un resumen.  \n",
    "Esto es una **simulación básica**; luego puede reemplazarse con llamadas reales a la API de ChatGPT.\n"
   ]
  },
  {
   "cell_type": "code",
   "execution_count": 11,
   "id": "8f6d7dae-7bba-42f2-8eb1-eca6185f6f66",
   "metadata": {},
   "outputs": [
    {
     "name": "stdout",
     "output_type": "stream",
     "text": [
      "\n",
      "✅ Resumen del turno:\n",
      "* tipo_consulta: Electrocardiograma\n",
      "* obra_social: OSDE\n",
      "* dia_horario: martes 11\n",
      "* nombre: Juan\n",
      "* apellido: Delsoglio\n",
      "* dni: 12345678\n",
      "* telefono: 1234567890\n",
      "* email: juan@email.com\n",
      "* fecha_nacimiento: 24/02/1994\n"
     ]
    }
   ],
   "source": [
    "# Simulación de prompt con datos predefinidos\n",
    "paciente = {\n",
    "    'tipo_consulta': 'Electrocardiograma',\n",
    "    'obra_social': 'OSDE',\n",
    "    'dia_horario': 'martes 11',\n",
    "    'nombre': 'Juan',\n",
    "    'apellido': 'Delsoglio',\n",
    "    'dni': '12345678',\n",
    "    'telefono': '1234567890',\n",
    "    'email': 'juan@email.com',\n",
    "    'fecha_nacimiento': '24/02/1994'\n",
    "}\n",
    "\n",
    "print(\"\\n✅ Resumen del turno:\")\n",
    "for k,v in paciente.items():\n",
    "    print(f\"* {k}: {v}\")\n",
    "\n"
   ]
  },
  {
   "cell_type": "markdown",
   "id": "c2adf672-cac8-4d45-9c23-c12f494fa877",
   "metadata": {},
   "source": [
    "## 7. Análisis de mejoras\n",
    "- Se pueden comparar prompts básicos vs optimizados usando técnicas de Fast Prompting.  \n",
    "- Validar consistencia y completitud de los datos recolectados.  \n",
    "- Analizar tiempo de interacción y errores de entrada de datos.\n",
    "\n",
    "## 8. Conclusiones\n",
    "- La POC demuestra que un asistente virtual puede mejorar la eficiencia y experiencia del paciente.  \n",
    "- La estructura modular permite incorporar nuevas técnicas de IA o integración con APIs reales en el futuro.\n",
    "\n"
   ]
  },
  {
   "cell_type": "markdown",
   "id": "a4bba4d2-240d-4648-afd4-dc879edc5710",
   "metadata": {},
   "source": [
    "## 9. Ejemplo de Fast Prompting (simulado)\n",
    "\n",
    "A continuación se muestra cómo se podría implementar **Fast Prompting** en la recolección de datos usando ChatGPT:\n",
    "\n",
    "- **Zero-shot:** Pedir al modelo que actúe como recepcionista sin dar ejemplos.\n",
    "- **Few-shot:** Dar uno o dos ejemplos de interacciones para guiar la respuesta.\n",
    "- **Role prompting:** Indicarle explícitamente que su rol es “Recepcionista Virtual”.\n",
    "- **Chaining:** Dividir la tarea en pasos: 1) recolectar datos, 2) validar horarios, 3) generar resumen.\n"
   ]
  },
  {
   "cell_type": "code",
   "execution_count": 12,
   "id": "9963b42f-6878-4f46-824d-021e8c68e771",
   "metadata": {},
   "outputs": [
    {
     "name": "stdout",
     "output_type": "stream",
     "text": [
      "✅ Resumen generado por Fast Prompting simulado:\n",
      "* tipo_consulta: Electrocardiograma\n",
      "* obra_social: OSDE\n",
      "* dia_horario: martes 11\n",
      "* nombre: Juan\n",
      "* apellido: Delsoglio\n",
      "* dni: 12345678\n",
      "* telefono: 1234567890\n",
      "* email: juan@email.com\n",
      "* fecha_nacimiento: 24/02/1994\n"
     ]
    }
   ],
   "source": [
    "# Simulación de Fast Prompting con \"role\" y \"few-shot\"\n",
    "\n",
    "# Prompt de ejemplo\n",
    "prompt_role = \"\"\"\n",
    "Actúa como un recepcionista de clínica médica. \n",
    "Recolecta datos del paciente y genera un resumen.\n",
    "Ejemplo de entrada: \n",
    "    Paciente: Quiero un turno para el cardiólogo.\n",
    "Respuesta esperada:\n",
    "    Tipo de consulta: Electrocardiograma\n",
    "    Obra social: OSDE\n",
    "    Día y horario: martes 11\n",
    "    Nombre: Juan\n",
    "    Apellido: Delsoglio\n",
    "    DNI: 12345678\n",
    "\"\"\"\n",
    "\n",
    "# Simulamos la respuesta del modelo con datos predefinidos\n",
    "respuesta_modelo = {\n",
    "    'tipo_consulta': 'Electrocardiograma',\n",
    "    'obra_social': 'OSDE',\n",
    "    'dia_horario': 'martes 11',\n",
    "    'nombre': 'Juan',\n",
    "    'apellido': 'Delsoglio',\n",
    "    'dni': '12345678',\n",
    "    'telefono': '1234567890',\n",
    "    'email': 'juan@email.com',\n",
    "    'fecha_nacimiento': '24/02/1994'\n",
    "}\n",
    "\n",
    "print(\"✅ Resumen generado por Fast Prompting simulado:\")\n",
    "for k,v in respuesta_modelo.items():\n",
    "    print(f\"* {k}: {v}\")\n"
   ]
  },
  {
   "cell_type": "markdown",
   "id": "5704aef7-9517-45bd-a36f-7fe4535f9541",
   "metadata": {},
   "source": [
    "## 10. Confirmación Visual (simulada)\n",
    "\n",
    "Se genera una **tarjeta digital de confirmación** basada en el resumen del turno.  \n",
    "\n",
    "- Incluye el logo de la clínica (simulado con texto).  \n",
    "- Muestra tipo de consulta, nombre del paciente, fecha y hora del turno.  \n",
    "- Representa la idea de la generación de imagen sin necesidad de usar la API real.\n"
   ]
  },
  {
   "cell_type": "code",
   "execution_count": 7,
   "id": "e39955a2-70cc-420e-9f4e-6559fe5eed72",
   "metadata": {},
   "outputs": [
    {
     "name": "stdout",
     "output_type": "stream",
     "text": [
      "\n",
      "####################################\n",
      "#         CLÍNICA SALUD           #\n",
      "#       Turno Confirmado          #\n",
      "####################################\n",
      "Paciente: Juan Delsoglio\n",
      "Tipo de consulta: consulta\n",
      "Obra social: OSDE\n",
      "Día y horario: martes 11\n",
      "Teléfono: 1234567890\n",
      "Email: juan@email.com\n",
      "####################################\n",
      "\n"
     ]
    }
   ],
   "source": [
    "# Simulación de tarjeta de confirmación\n",
    "resumen = respuesta_modelo\n",
    "\n",
    "# Creamos una \"representación\" de la tarjeta en texto\n",
    "tarjeta = f\"\"\"\n",
    "####################################\n",
    "#         CLÍNICA SALUD           #\n",
    "#       Turno Confirmado          #\n",
    "####################################\n",
    "Paciente: {resumen['nombre']} {resumen['apellido']}\n",
    "Tipo de consulta: {resumen['tipo_consulta']}\n",
    "Obra social: {resumen['obra_social']}\n",
    "Día y horario: {resumen['dia_horario']}\n",
    "Teléfono: {resumen['telefono']}\n",
    "Email: {resumen['email']}\n",
    "####################################\n",
    "\"\"\"\n",
    "\n",
    "print(tarjeta)\n"
   ]
  },
  {
   "cell_type": "markdown",
   "id": "1ca16eed-f937-4c53-b277-45e7bc0a6d32",
   "metadata": {},
   "source": [
    "## 📌 Autor\n",
    "Juan Delsoglio  \n",
    "Diplomatura en Ciencia de Datos – Coderhouse\n"
   ]
  },
  {
   "cell_type": "code",
   "execution_count": null,
   "id": "1312d0bd-eaaf-48f7-9b5f-95aa4cbeb7ec",
   "metadata": {},
   "outputs": [],
   "source": []
  }
 ],
 "metadata": {
  "kernelspec": {
   "display_name": "Python 3 (ipykernel)",
   "language": "python",
   "name": "python3"
  },
  "language_info": {
   "codemirror_mode": {
    "name": "ipython",
    "version": 3
   },
   "file_extension": ".py",
   "mimetype": "text/x-python",
   "name": "python",
   "nbconvert_exporter": "python",
   "pygments_lexer": "ipython3",
   "version": "3.13.3"
  }
 },
 "nbformat": 4,
 "nbformat_minor": 5
}
